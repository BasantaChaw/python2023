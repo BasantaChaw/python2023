{
 "cells": [
  {
   "cell_type": "markdown",
   "id": "047db91f",
   "metadata": {},
   "source": [
    "# Array"
   ]
  },
  {
   "cell_type": "code",
   "execution_count": 2,
   "id": "d9665418",
   "metadata": {},
   "outputs": [],
   "source": [
    "import numpy as np"
   ]
  },
  {
   "cell_type": "code",
   "execution_count": 8,
   "id": "15025aa1",
   "metadata": {},
   "outputs": [
    {
     "name": "stdout",
     "output_type": "stream",
     "text": [
      "[1 2 3 4 5]\n",
      "<class 'numpy.ndarray'>\n",
      "1\n"
     ]
    }
   ],
   "source": [
    "x=[1,2,3,4,5]\n",
    "arr1=np.array(x)\n",
    "print(arr1)\n",
    "print(type(arr1))\n",
    "print(arr1.ndim)"
   ]
  },
  {
   "cell_type": "code",
   "execution_count": 7,
   "id": "101a3b8b",
   "metadata": {},
   "outputs": [
    {
     "name": "stdout",
     "output_type": "stream",
     "text": [
      "Enter :12\n",
      "Enter :432\n",
      "Enter :23\n",
      "Enter :33\n",
      "[ 12 432  23  33]\n"
     ]
    }
   ],
   "source": [
    "l=[]\n",
    "for i in range(1,5):\n",
    "    imt_1=int(input('Enter :'))\n",
    "    l.append(imt_1)\n",
    "print(np.array(l))"
   ]
  },
  {
   "cell_type": "code",
   "execution_count": 11,
   "id": "eb5c869d",
   "metadata": {},
   "outputs": [
    {
     "name": "stdout",
     "output_type": "stream",
     "text": [
      "[[12 32 44 32 43  3]\n",
      " [23 23 23  4 55  5]]\n",
      "2\n"
     ]
    }
   ],
   "source": [
    "l1=[[12,32,44,32,43,3],[23,23,23,4,55,5]]\n",
    "arr2=np.array(l1)\n",
    "print(x)\n",
    "print(x.ndim)"
   ]
  },
  {
   "cell_type": "code",
   "execution_count": 14,
   "id": "d2d48ea3",
   "metadata": {},
   "outputs": [
    {
     "name": "stdout",
     "output_type": "stream",
     "text": [
      "[[[ 12 332 434  55]\n",
      "  [132  34  55  54]\n",
      "  [ 12  43  55  66]]]\n",
      "3\n"
     ]
    }
   ],
   "source": [
    "l2=[[[12,332,434,55],[132,34,55,54],[12,43,55,66]]]\n",
    "arr3=np.array(l2)\n",
    "print(arr3)\n",
    "print(arr3.ndim)"
   ]
  },
  {
   "cell_type": "code",
   "execution_count": 16,
   "id": "8c4a7bad",
   "metadata": {},
   "outputs": [
    {
     "name": "stdout",
     "output_type": "stream",
     "text": [
      "[[[[[[[[[[1 2 3 4]]]]]]]]]]\n",
      "10\n"
     ]
    }
   ],
   "source": [
    "arrn=np.array([1,2,3,4],ndmin=10)\n",
    "print(arrn)\n",
    "print(arrn.ndim)"
   ]
  },
  {
   "cell_type": "markdown",
   "id": "1b1afb72",
   "metadata": {},
   "source": [
    "# Zeros"
   ]
  },
  {
   "cell_type": "code",
   "execution_count": 3,
   "id": "698c74d0",
   "metadata": {},
   "outputs": [
    {
     "name": "stdout",
     "output_type": "stream",
     "text": [
      "[0. 0. 0. 0.]\n",
      "\n",
      "[[0. 0. 0. 0.]\n",
      " [0. 0. 0. 0.]\n",
      " [0. 0. 0. 0.]]\n"
     ]
    }
   ],
   "source": [
    "import numpy as np\n",
    "arr_zero=np.zeros(4)\n",
    "arr_zero1=np.zeros((3,4))\n",
    "print(arr_zero)\n",
    "print()\n",
    "print(arr_zero1)"
   ]
  },
  {
   "cell_type": "markdown",
   "id": "4a6eca26",
   "metadata": {},
   "source": [
    "# Ones"
   ]
  },
  {
   "cell_type": "code",
   "execution_count": 6,
   "id": "5698b7eb",
   "metadata": {},
   "outputs": [
    {
     "name": "stdout",
     "output_type": "stream",
     "text": [
      "[1. 1. 1. 1.]\n",
      "\n",
      "[[1. 1. 1. 1.]\n",
      " [1. 1. 1. 1.]\n",
      " [1. 1. 1. 1.]]\n"
     ]
    }
   ],
   "source": [
    "import numpy as np\n",
    "arr_one=np.ones(4)\n",
    "arr_one1=np.ones((3,4))\n",
    "print(arr_one)\n",
    "print()\n",
    "print(arr_one1)"
   ]
  },
  {
   "cell_type": "markdown",
   "id": "e6ea04fc",
   "metadata": {},
   "source": [
    "# Empty"
   ]
  },
  {
   "cell_type": "code",
   "execution_count": 7,
   "id": "e3e7209c",
   "metadata": {},
   "outputs": [
    {
     "name": "stdout",
     "output_type": "stream",
     "text": [
      "[1. 1. 1. 1.]\n"
     ]
    }
   ],
   "source": [
    "arr_empty=np.empty(4)\n",
    "print(arr_empty)"
   ]
  },
  {
   "cell_type": "markdown",
   "id": "5d6dd6b1",
   "metadata": {},
   "source": [
    "# Range"
   ]
  },
  {
   "cell_type": "code",
   "execution_count": 8,
   "id": "fa50b5a4",
   "metadata": {},
   "outputs": [
    {
     "name": "stdout",
     "output_type": "stream",
     "text": [
      "[0 1 2 3]\n"
     ]
    }
   ],
   "source": [
    "arr_rn=np.arange(4)\n",
    "print(arr_rn)"
   ]
  },
  {
   "cell_type": "markdown",
   "id": "ef950a5a",
   "metadata": {},
   "source": [
    "# Diagnol"
   ]
  },
  {
   "cell_type": "code",
   "execution_count": 11,
   "id": "5acf15e8",
   "metadata": {},
   "outputs": [
    {
     "name": "stdout",
     "output_type": "stream",
     "text": [
      "[[1. 0. 0.]\n",
      " [0. 1. 0.]\n",
      " [0. 0. 1.]]\n"
     ]
    }
   ],
   "source": [
    "arr_diagnol=np.eye(3)\n",
    "print(arr_diagnol)"
   ]
  },
  {
   "cell_type": "code",
   "execution_count": 12,
   "id": "3da584e8",
   "metadata": {},
   "outputs": [
    {
     "name": "stdout",
     "output_type": "stream",
     "text": [
      "[[1. 0. 0. 0.]\n",
      " [0. 1. 0. 0.]\n",
      " [0. 0. 1. 0.]]\n"
     ]
    }
   ],
   "source": [
    "arr_diagnol=np.eye(3,4)\n",
    "print(arr_diagnol)"
   ]
  },
  {
   "cell_type": "markdown",
   "id": "455b0c7d",
   "metadata": {},
   "source": [
    "# linespace"
   ]
  },
  {
   "cell_type": "code",
   "execution_count": 15,
   "id": "706a6452",
   "metadata": {},
   "outputs": [
    {
     "name": "stdout",
     "output_type": "stream",
     "text": [
      "[ 0.  5. 10. 15. 20.]\n"
     ]
    }
   ],
   "source": [
    "arr_linespace=np.linspace(0,20,num=5)\n",
    "print(arr_linespace)"
   ]
  },
  {
   "cell_type": "markdown",
   "id": "5e1ce026",
   "metadata": {},
   "source": [
    "# Random"
   ]
  },
  {
   "cell_type": "markdown",
   "id": "fe3d4a67",
   "metadata": {},
   "source": [
    "# rand()"
   ]
  },
  {
   "cell_type": "code",
   "execution_count": 17,
   "id": "291654e4",
   "metadata": {},
   "outputs": [
    {
     "name": "stdout",
     "output_type": "stream",
     "text": [
      "[0.79719223 0.04318134 0.25904618 0.51251966]\n"
     ]
    }
   ],
   "source": [
    "arr_random=np.random.rand(4)\n",
    "print(arr_random)"
   ]
  },
  {
   "cell_type": "code",
   "execution_count": 20,
   "id": "acf790b6",
   "metadata": {},
   "outputs": [
    {
     "name": "stdout",
     "output_type": "stream",
     "text": [
      "[[0.93174479 0.49579994 0.82487096 0.6879454 ]\n",
      " [0.10944298 0.220791   0.08765751 0.62527337]\n",
      " [0.42605126 0.67932887 0.13683181 0.85777326]]\n"
     ]
    }
   ],
   "source": [
    "arr_random1=np.random.rand(3,4)\n",
    "print(arr_random1)"
   ]
  },
  {
   "cell_type": "markdown",
   "id": "dea56290",
   "metadata": {},
   "source": [
    "# randn()"
   ]
  },
  {
   "cell_type": "code",
   "execution_count": 21,
   "id": "5d098cea",
   "metadata": {},
   "outputs": [
    {
     "name": "stdout",
     "output_type": "stream",
     "text": [
      "[-1.62576976 -1.06226218  0.71122524  0.65153889 -0.65947821]\n"
     ]
    }
   ],
   "source": [
    "arr_randomn=np.random.randn(5)\n",
    "print(arr_randomn)"
   ]
  },
  {
   "cell_type": "code",
   "execution_count": 22,
   "id": "6d46afc0",
   "metadata": {},
   "outputs": [
    {
     "name": "stdout",
     "output_type": "stream",
     "text": [
      "[[ 0.31879194  2.26795312  0.48175195 -0.42431919]\n",
      " [-1.22392758  1.79333808 -2.10609257 -0.54596663]\n",
      " [ 1.63004119  0.65257164  0.18684427 -0.56834521]]\n"
     ]
    }
   ],
   "source": [
    "arr_randomn1=np.random.randn(3,4)\n",
    "print(arr_randomn1)"
   ]
  },
  {
   "cell_type": "markdown",
   "id": "83aa6053",
   "metadata": {},
   "source": [
    "# randf()"
   ]
  },
  {
   "cell_type": "code",
   "execution_count": 24,
   "id": "fdd1e528",
   "metadata": {},
   "outputs": [
    {
     "name": "stdout",
     "output_type": "stream",
     "text": [
      "[0.20880221 0.30184735 0.75789204 0.21895584 0.13711741]\n"
     ]
    }
   ],
   "source": [
    "arr_randomf=np.random.ranf(5)\n",
    "print(arr_randomf)"
   ]
  },
  {
   "cell_type": "markdown",
   "id": "46c61401",
   "metadata": {},
   "source": [
    "# randint()"
   ]
  },
  {
   "cell_type": "code",
   "execution_count": 26,
   "id": "0cb29f2a",
   "metadata": {},
   "outputs": [
    {
     "name": "stdout",
     "output_type": "stream",
     "text": [
      "[11  7 12 10 12]\n"
     ]
    }
   ],
   "source": [
    "arr_randint=np.random.randint(5,20,5)\n",
    "print(arr_randint)"
   ]
  },
  {
   "cell_type": "markdown",
   "id": "28457bd0",
   "metadata": {},
   "source": [
    "# Data Types"
   ]
  },
  {
   "cell_type": "code",
   "execution_count": 28,
   "id": "cdd45cd6",
   "metadata": {},
   "outputs": [
    {
     "name": "stdout",
     "output_type": "stream",
     "text": [
      "Data Type :  int32\n"
     ]
    }
   ],
   "source": [
    "arr=np.array([1,2,3,4,12,32,55])\n",
    "print('Data Type : ',arr.dtype)"
   ]
  },
  {
   "cell_type": "code",
   "execution_count": 29,
   "id": "1066a496",
   "metadata": {},
   "outputs": [
    {
     "name": "stdout",
     "output_type": "stream",
     "text": [
      "Data Type :  float64\n"
     ]
    }
   ],
   "source": [
    "arr=np.array([1.4,2.0,3.3,4.6,12.7,32.8,55.4])\n",
    "print('Data Type : ',arr.dtype)"
   ]
  },
  {
   "cell_type": "code",
   "execution_count": 30,
   "id": "5be80f84",
   "metadata": {},
   "outputs": [
    {
     "name": "stdout",
     "output_type": "stream",
     "text": [
      "Data Type :  <U1\n"
     ]
    }
   ],
   "source": [
    "arr=np.array(['A','B','C','D'])\n",
    "print('Data Type : ',arr.dtype)"
   ]
  },
  {
   "cell_type": "code",
   "execution_count": 33,
   "id": "ad33a844",
   "metadata": {},
   "outputs": [
    {
     "name": "stdout",
     "output_type": "stream",
     "text": [
      "Data Type :  <U11\n"
     ]
    }
   ],
   "source": [
    "arr=np.array(['A','B','C','D',1,2,3])\n",
    "print('Data Type : ',arr.dtype)"
   ]
  },
  {
   "cell_type": "code",
   "execution_count": 36,
   "id": "dcf513df",
   "metadata": {},
   "outputs": [
    {
     "name": "stdout",
     "output_type": "stream",
     "text": [
      "Data Types : int32\n"
     ]
    }
   ],
   "source": [
    "x=np.array([1,2,3,4,5])\n",
    "print('Data Types :',x.dtype)"
   ]
  },
  {
   "cell_type": "code",
   "execution_count": 37,
   "id": "0bc30947",
   "metadata": {},
   "outputs": [
    {
     "name": "stdout",
     "output_type": "stream",
     "text": [
      "[1 2 3 4 5]\n",
      "Data Types : int8\n"
     ]
    }
   ],
   "source": [
    "x=np.array([1,2,3,4,5],dtype=np.int8)\n",
    "print(x)\n",
    "print('Data Types :',x.dtype)"
   ]
  },
  {
   "cell_type": "code",
   "execution_count": 38,
   "id": "c5bf4560",
   "metadata": {},
   "outputs": [
    {
     "name": "stdout",
     "output_type": "stream",
     "text": [
      "[1. 2. 3. 4. 5.]\n",
      "Data Types : float32\n"
     ]
    }
   ],
   "source": [
    "x1=np.array([1,2,3,4,5],dtype='f')\n",
    "print(x1)\n",
    "print('Data Types :',x1.dtype)"
   ]
  },
  {
   "cell_type": "code",
   "execution_count": 42,
   "id": "ed1b2830",
   "metadata": {},
   "outputs": [
    {
     "name": "stdout",
     "output_type": "stream",
     "text": [
      "[1 2 3 4 5]\n",
      "Data Types : int32\n",
      "Data Type :  float32\n",
      "[1. 2. 3. 4. 5.]\n",
      "[1 2 3 4 5]\n"
     ]
    }
   ],
   "source": [
    "x1=np.array([1,2,3,4,5])\n",
    "new=np.float32(x1)\n",
    "new1=np.int_(new)\n",
    "print(x1)\n",
    "print('Data Types :',x1.dtype)\n",
    "print('Data Type : ',new.dtype)\n",
    "print(new)\n",
    "print(new1)"
   ]
  },
  {
   "cell_type": "code",
   "execution_count": 43,
   "id": "514aebb4",
   "metadata": {},
   "outputs": [
    {
     "name": "stdout",
     "output_type": "stream",
     "text": [
      "[1. 2. 3. 4. 5.]\n"
     ]
    }
   ],
   "source": [
    "x1=np.array([1,2,3,4,5])\n",
    "neww=x1.astype(float)\n",
    "print(neww)"
   ]
  },
  {
   "cell_type": "markdown",
   "id": "099320f3",
   "metadata": {},
   "source": [
    "# Arithmetic Operation"
   ]
  },
  {
   "cell_type": "code",
   "execution_count": 44,
   "id": "3f2eb9d3",
   "metadata": {},
   "outputs": [
    {
     "name": "stdout",
     "output_type": "stream",
     "text": [
      "[4 5 6 7]\n"
     ]
    }
   ],
   "source": [
    "var=np.array([1,2,3,4])\n",
    "varAdd=var+3\n",
    "print(varAdd)"
   ]
  },
  {
   "cell_type": "code",
   "execution_count": 45,
   "id": "460fb9d6",
   "metadata": {},
   "outputs": [
    {
     "name": "stdout",
     "output_type": "stream",
     "text": [
      "[0 1 2 3]\n"
     ]
    }
   ],
   "source": [
    "varSub=var-1\n",
    "print(varSub)"
   ]
  },
  {
   "cell_type": "code",
   "execution_count": 47,
   "id": "9f097d4a",
   "metadata": {},
   "outputs": [
    {
     "name": "stdout",
     "output_type": "stream",
     "text": [
      "[2 4 6 8]\n"
     ]
    }
   ],
   "source": [
    "varMultiply=var*2\n",
    "print(varMultiply)"
   ]
  },
  {
   "cell_type": "code",
   "execution_count": 48,
   "id": "f7c6e5fd",
   "metadata": {},
   "outputs": [
    {
     "name": "stdout",
     "output_type": "stream",
     "text": [
      "[0.5 1.  1.5 2. ]\n"
     ]
    }
   ],
   "source": [
    "varDivision=var/2\n",
    "print(varDivision)"
   ]
  },
  {
   "cell_type": "code",
   "execution_count": 49,
   "id": "79286f76",
   "metadata": {},
   "outputs": [
    {
     "name": "stdout",
     "output_type": "stream",
     "text": [
      "[1 0 1 0]\n"
     ]
    }
   ],
   "source": [
    "varModulus=var%2\n",
    "print(varModulus)"
   ]
  },
  {
   "cell_type": "code",
   "execution_count": 50,
   "id": "5438dc23",
   "metadata": {},
   "outputs": [
    {
     "name": "stdout",
     "output_type": "stream",
     "text": [
      "[2 4 6 8]\n"
     ]
    }
   ],
   "source": [
    "var1=[1,2,3,4]\n",
    "var2=[1,2,3,4]\n",
    "varr=np.add(var1,var2)\n",
    "print(varr)"
   ]
  },
  {
   "cell_type": "markdown",
   "id": "dbbc080f",
   "metadata": {},
   "source": [
    "# 2D Array"
   ]
  },
  {
   "cell_type": "code",
   "execution_count": 52,
   "id": "12aec1cc",
   "metadata": {},
   "outputs": [
    {
     "name": "stdout",
     "output_type": "stream",
     "text": [
      "[[2 4 6 8]\n",
      " [2 4 6 8]]\n"
     ]
    }
   ],
   "source": [
    "var2d=np.array([[1,2,3,4],[1,2,3,4]])\n",
    "var2d1=np.array([[1,2,3,4],[1,2,3,4]])\n",
    "var2dadd=np.add(var2d,var2d1)\n",
    "print(var2dadd)"
   ]
  },
  {
   "cell_type": "markdown",
   "id": "a6e79689",
   "metadata": {},
   "source": [
    "# Arithmetic Functions"
   ]
  },
  {
   "cell_type": "code",
   "execution_count": 58,
   "id": "500def65",
   "metadata": {},
   "outputs": [
    {
     "name": "stdout",
     "output_type": "stream",
     "text": [
      "Maximum Value :  4  Minimum value :  1\n",
      "Index Number Min and Max : 0 : 3\n"
     ]
    }
   ],
   "source": [
    "varmin=np.array([1,2,3,4,2])\n",
    "minvalue=np.min(varmin)\n",
    "maxvalue=np.max(varmin)\n",
    "print('Maximum Value : ',maxvalue,' Minimum value : ',minvalue)\n",
    "print('Index Number Min and Max :',np.argmin(varmin),':',np.argmax(varmin))"
   ]
  },
  {
   "cell_type": "code",
   "execution_count": 64,
   "id": "169511f3",
   "metadata": {},
   "outputs": [
    {
     "name": "stdout",
     "output_type": "stream",
     "text": [
      "minimum value column : [1 2 3 4]\n"
     ]
    }
   ],
   "source": [
    "var1=np.array([[1,2,3,4],[5,6,7,8]])\n",
    "print('minimum value column :',np.min(var1,axis=0))"
   ]
  },
  {
   "cell_type": "code",
   "execution_count": 63,
   "id": "01cb500e",
   "metadata": {},
   "outputs": [
    {
     "name": "stdout",
     "output_type": "stream",
     "text": [
      "minimum value row : [1 5]\n"
     ]
    }
   ],
   "source": [
    "var1=np.array([[1,2,3,4],[5,6,7,8]])\n",
    "print('minimum value row :',np.min(var1,axis=1))"
   ]
  },
  {
   "cell_type": "code",
   "execution_count": 66,
   "id": "1e546d9e",
   "metadata": {},
   "outputs": [
    {
     "name": "stdout",
     "output_type": "stream",
     "text": [
      "maximum value column : [5 6 7 8]\n"
     ]
    }
   ],
   "source": [
    "var1=np.array([[1,2,3,4],[5,6,7,8]])\n",
    "print('maximum value column :',np.max(var1,axis=0))"
   ]
  },
  {
   "cell_type": "code",
   "execution_count": 67,
   "id": "1e2a9be2",
   "metadata": {},
   "outputs": [
    {
     "name": "stdout",
     "output_type": "stream",
     "text": [
      "maximum value row : [4 8]\n"
     ]
    }
   ],
   "source": [
    "var1=np.array([[1,2,3,4],[5,6,7,8]])\n",
    "print('maximum value row :',np.max(var1,axis=1))"
   ]
  },
  {
   "cell_type": "markdown",
   "id": "1171fa33",
   "metadata": {},
   "source": [
    "# sqrt()"
   ]
  },
  {
   "cell_type": "code",
   "execution_count": 68,
   "id": "8574fdb0",
   "metadata": {},
   "outputs": [
    {
     "name": "stdout",
     "output_type": "stream",
     "text": [
      "Square root : [1.         1.41421356 1.73205081 2.        ]\n"
     ]
    }
   ],
   "source": [
    "print('Square root :',np.sqrt(var))"
   ]
  },
  {
   "cell_type": "code",
   "execution_count": 69,
   "id": "ac22ff27",
   "metadata": {},
   "outputs": [
    {
     "name": "stdout",
     "output_type": "stream",
     "text": [
      "sin :  [0.84147098 0.90929743 0.14112001]\n"
     ]
    }
   ],
   "source": [
    "var2=np.array([1,2,3])\n",
    "print('sin : ',np.sin(var2))"
   ]
  },
  {
   "cell_type": "code",
   "execution_count": 70,
   "id": "624ca567",
   "metadata": {},
   "outputs": [
    {
     "name": "stdout",
     "output_type": "stream",
     "text": [
      "cos : [ 0.54030231 -0.41614684 -0.9899925 ]\n"
     ]
    }
   ],
   "source": [
    "var2=np.array([1,2,3])\n",
    "print('cos :',np.cos(var2))"
   ]
  },
  {
   "cell_type": "code",
   "execution_count": 71,
   "id": "2a4513a3",
   "metadata": {},
   "outputs": [
    {
     "name": "stdout",
     "output_type": "stream",
     "text": [
      "cumsum :  [1 3 6]\n"
     ]
    }
   ],
   "source": [
    "var2=np.array([1,2,3])\n",
    "print('cumsum : ',np.cumsum(var2))"
   ]
  },
  {
   "cell_type": "markdown",
   "id": "daaef604",
   "metadata": {},
   "source": [
    "# shape & Reshaping"
   ]
  },
  {
   "cell_type": "code",
   "execution_count": 3,
   "id": "82992bd2",
   "metadata": {},
   "outputs": [
    {
     "name": "stdout",
     "output_type": "stream",
     "text": [
      "[[ 1  2  3  4  5]\n",
      " [ 6  7  8  9 20]]\n",
      "\n",
      "(2, 5)\n"
     ]
    }
   ],
   "source": [
    "import numpy as np\n",
    "var=np.array([[1,2,3,4,5],[6,7,8,9,20]])\n",
    "print(var)\n",
    "print()\n",
    "print(var.shape)"
   ]
  },
  {
   "cell_type": "code",
   "execution_count": 6,
   "id": "6bda89aa",
   "metadata": {},
   "outputs": [
    {
     "name": "stdout",
     "output_type": "stream",
     "text": [
      "[[[[1 2 3 4 5 6]]]]\n",
      "4\n",
      "(1, 1, 1, 6)\n"
     ]
    }
   ],
   "source": [
    "var1=np.array([1,2,3,4,5,6],ndmin=4)\n",
    "print(var1)\n",
    "print(var1.ndim)\n",
    "print(var1.shape)"
   ]
  },
  {
   "cell_type": "markdown",
   "id": "c413eb6e",
   "metadata": {},
   "source": [
    "# Reshaping"
   ]
  },
  {
   "cell_type": "code",
   "execution_count": 14,
   "id": "2c49ff78",
   "metadata": {},
   "outputs": [
    {
     "name": "stdout",
     "output_type": "stream",
     "text": [
      "[1 2 3 4 5 6]\n",
      "\n",
      "[[[1 2]]\n",
      "\n",
      " [[3 4]]\n",
      "\n",
      " [[5 6]]]\n",
      "3\n"
     ]
    }
   ],
   "source": [
    "var2=np.array([1,2,3,4,5,6])\n",
    "print(var2)\n",
    "print()\n",
    "x=var2.reshape(3,1,2)\n",
    "print(x)\n",
    "print(x.ndim)"
   ]
  },
  {
   "cell_type": "markdown",
   "id": "07808b8e",
   "metadata": {},
   "source": [
    "# Broadcasting"
   ]
  },
  {
   "cell_type": "markdown",
   "id": "13eb2d4e",
   "metadata": {},
   "source": [
    "# var1=np.array([1,2,3,4])\n",
    "var2=np.array([6,7,8,9])\n",
    "print(var1+var2)\n"
   ]
  },
  {
   "cell_type": "markdown",
   "id": "7d64e920",
   "metadata": {},
   "source": [
    "# Indexing"
   ]
  },
  {
   "cell_type": "markdown",
   "id": "dd18a826",
   "metadata": {},
   "source": [
    "# 1D"
   ]
  },
  {
   "cell_type": "code",
   "execution_count": 18,
   "id": "789454ae",
   "metadata": {},
   "outputs": [
    {
     "name": "stdout",
     "output_type": "stream",
     "text": [
      "2\n",
      "\n",
      "5\n"
     ]
    }
   ],
   "source": [
    "var=np.array([1,2,3,4,5])\n",
    "print(var[1])\n",
    "print()\n",
    "print(var[-1])"
   ]
  },
  {
   "cell_type": "markdown",
   "id": "69b72442",
   "metadata": {},
   "source": [
    "# 2D"
   ]
  },
  {
   "cell_type": "code",
   "execution_count": 24,
   "id": "64946c90",
   "metadata": {},
   "outputs": [
    {
     "name": "stdout",
     "output_type": "stream",
     "text": [
      "[[1 2 3 4]\n",
      " [6 7 8 9]]\n",
      "\n",
      "2\n",
      "\n",
      "4\n",
      "\n",
      "6\n"
     ]
    }
   ],
   "source": [
    "var2=np.array([[1,2,3,4],[6,7,8,9]])\n",
    "print(var2)\n",
    "print()\n",
    "print(var2.ndim)\n",
    "print()\n",
    "print(var2[0,3])\n",
    "print()\n",
    "print(var2[1,0])"
   ]
  },
  {
   "cell_type": "markdown",
   "id": "f9d760f6",
   "metadata": {},
   "source": [
    "# 3D"
   ]
  },
  {
   "cell_type": "code",
   "execution_count": 26,
   "id": "bd7a3a72",
   "metadata": {},
   "outputs": [
    {
     "name": "stdout",
     "output_type": "stream",
     "text": [
      "[[[1 2 3]\n",
      "  [4 5 6]\n",
      "  [7 8 9]]]\n",
      "\n",
      "3\n",
      "\n",
      "5\n"
     ]
    }
   ],
   "source": [
    "var3=np.array([[[1,2,3],[4,5,6],[7,8,9]]])\n",
    "print(var3)\n",
    "print()\n",
    "print(var3.ndim)\n",
    "print()\n",
    "print(var3[0,1,1])"
   ]
  },
  {
   "cell_type": "markdown",
   "id": "93d63213",
   "metadata": {},
   "source": [
    "# Slicing"
   ]
  },
  {
   "cell_type": "code",
   "execution_count": 33,
   "id": "a29784f2",
   "metadata": {},
   "outputs": [
    {
     "name": "stdout",
     "output_type": "stream",
     "text": [
      "[2 3]\n",
      "[4 5]\n",
      "[2 4]\n",
      "[3 4 5 6]\n",
      "[1 2 3 4]\n",
      "[1 2 3 4 5]\n",
      "[5 6]\n"
     ]
    }
   ],
   "source": [
    "va=np.array([1,2,3,4,5,6])\n",
    "print(va[1:3])\n",
    "print(va[3:-1])\n",
    "print(va[1:-1:2])\n",
    "print(va[2:])\n",
    "print(va[:-2])\n",
    "print(va[:5])\n",
    "print(va[-2:])"
   ]
  },
  {
   "cell_type": "code",
   "execution_count": 37,
   "id": "9e842b02",
   "metadata": {},
   "outputs": [
    {
     "name": "stdout",
     "output_type": "stream",
     "text": [
      "2\n",
      "[4 5]\n"
     ]
    }
   ],
   "source": [
    "va1=np.array([[1,2,3],[4,5,6],[7,8,9]])\n",
    "print(va1.ndim)\n",
    "print(va1[1,0:2])"
   ]
  },
  {
   "cell_type": "markdown",
   "id": "0be0c44d",
   "metadata": {},
   "source": [
    "# Iterating Numpy Arrays"
   ]
  },
  {
   "cell_type": "code",
   "execution_count": 38,
   "id": "87db69b6",
   "metadata": {},
   "outputs": [
    {
     "name": "stdout",
     "output_type": "stream",
     "text": [
      "[ 1  2  3  4  5 56  6  7]\n",
      "\n",
      "1\n",
      "2\n",
      "3\n",
      "4\n",
      "5\n",
      "56\n",
      "6\n",
      "7\n"
     ]
    }
   ],
   "source": [
    "va=np.array([1,2,3,4,5,56,6,7])\n",
    "print(va)\n",
    "print()\n",
    "for i in va:\n",
    "    print(i)"
   ]
  },
  {
   "cell_type": "code",
   "execution_count": 46,
   "id": "8fdeb1b4",
   "metadata": {},
   "outputs": [
    {
     "name": "stdout",
     "output_type": "stream",
     "text": [
      "[[ 1  2  3  4  5]\n",
      " [ 6  7  8  9 10]]\n",
      "\n",
      "12345\n",
      "678910\n"
     ]
    }
   ],
   "source": [
    "va2=np.array([[1,2,3,4,5],[6,7,8,9,10]])\n",
    "print(va2)\n",
    "print()\n",
    "for x in va2:\n",
    "    for j in x:\n",
    "        print(j,end='')\n",
    "    print()"
   ]
  },
  {
   "cell_type": "code",
   "execution_count": 49,
   "id": "5c5f36bc",
   "metadata": {},
   "outputs": [
    {
     "name": "stdout",
     "output_type": "stream",
     "text": [
      "[[[1 2 3]\n",
      "  [4 5 6]]]\n",
      "\n",
      "123456"
     ]
    }
   ],
   "source": [
    "va3=np.array([[[1,2,3],[4,5,6]]])\n",
    "print(va3)\n",
    "print()\n",
    "for x in va3:\n",
    "    for y in x:\n",
    "        for z in y:\n",
    "            print(z,end=\"\")"
   ]
  },
  {
   "cell_type": "code",
   "execution_count": 50,
   "id": "a97ad595",
   "metadata": {},
   "outputs": [
    {
     "name": "stdout",
     "output_type": "stream",
     "text": [
      "1\n",
      "2\n",
      "3\n",
      "4\n",
      "5\n",
      "6\n"
     ]
    }
   ],
   "source": [
    "va3=np.array([[[1,2,3],[4,5,6]]])\n",
    "for i in np.nditer(va3):\n",
    "    print(i)"
   ]
  },
  {
   "cell_type": "code",
   "execution_count": 55,
   "id": "289f1fe2",
   "metadata": {},
   "outputs": [
    {
     "name": "stdout",
     "output_type": "stream",
     "text": [
      "1\n",
      "2\n",
      "3\n",
      "4\n",
      "5\n",
      "6\n"
     ]
    }
   ],
   "source": [
    "va3=np.array([[[1,2,3],[4,5,6]]])\n",
    "for i in np.nditer(va3):\n",
    "    print(i)"
   ]
  },
  {
   "cell_type": "code",
   "execution_count": 56,
   "id": "b2a9a548",
   "metadata": {},
   "outputs": [
    {
     "name": "stdout",
     "output_type": "stream",
     "text": [
      "(0, 0, 0) 1\n",
      "(0, 0, 1) 2\n",
      "(0, 0, 2) 3\n",
      "(0, 1, 0) 4\n",
      "(0, 1, 1) 5\n",
      "(0, 1, 2) 6\n"
     ]
    }
   ],
   "source": [
    "va3=np.array([[[1,2,3],[4,5,6]]])\n",
    "for i,d in np.ndenumerate(va3):\n",
    "    print(i,d)"
   ]
  },
  {
   "cell_type": "markdown",
   "id": "ab12ba99",
   "metadata": {},
   "source": [
    "# Copy Vs View"
   ]
  },
  {
   "cell_type": "code",
   "execution_count": 59,
   "id": "76d6b334",
   "metadata": {},
   "outputs": [
    {
     "name": "stdout",
     "output_type": "stream",
     "text": [
      "[ 1  2  3 40  5]\n",
      "\n",
      "[1 2 3 4 5]\n"
     ]
    }
   ],
   "source": [
    "var=np.array([1,2,3,4,5])\n",
    "co=var.copy()\n",
    "var[3]=40\n",
    "print(var)\n",
    "print()\n",
    "print(co)"
   ]
  },
  {
   "cell_type": "code",
   "execution_count": 60,
   "id": "f6c8baac",
   "metadata": {},
   "outputs": [
    {
     "name": "stdout",
     "output_type": "stream",
     "text": [
      "[ 5  6  7 50  9]\n",
      "\n",
      "[ 5  6  7 50  9]\n"
     ]
    }
   ],
   "source": [
    "va1=np.array([5,6,7,8,9])\n",
    "va2=va1.view()\n",
    "va1[3]=50\n",
    "print(va1)\n",
    "print()\n",
    "print(va2)"
   ]
  },
  {
   "cell_type": "markdown",
   "id": "8620d717",
   "metadata": {},
   "source": [
    "# Join array"
   ]
  },
  {
   "cell_type": "code",
   "execution_count": 63,
   "id": "2faac5df",
   "metadata": {},
   "outputs": [
    {
     "name": "stdout",
     "output_type": "stream",
     "text": [
      "[ 1  2  3  4  5  6  7  8  9 10]\n"
     ]
    }
   ],
   "source": [
    "x=np.array([1,2,3,4,5])\n",
    "y=np.array([6,7,8,9,10])\n",
    "arr=np.concatenate((x,y))\n",
    "print(arr)"
   ]
  },
  {
   "cell_type": "code",
   "execution_count": 66,
   "id": "9ae5fce8",
   "metadata": {},
   "outputs": [
    {
     "name": "stdout",
     "output_type": "stream",
     "text": [
      "[[1 2 5 6]\n",
      " [3 4 7 8]]\n"
     ]
    }
   ],
   "source": [
    "x1=np.array([[1,2],[3,4]])\n",
    "y1=np.array([[5,6],[7,8]])\n",
    "aarnew=np.concatenate((x1,y1),axis=1)\n",
    "print(aarnew)"
   ]
  },
  {
   "cell_type": "code",
   "execution_count": 68,
   "id": "ce0eacd1",
   "metadata": {},
   "outputs": [
    {
     "name": "stdout",
     "output_type": "stream",
     "text": [
      "[[[1 2]\n",
      "  [5 6]]\n",
      "\n",
      " [[3 4]\n",
      "  [7 8]]]\n",
      "\n",
      "[[1 2 5 6]\n",
      " [3 4 7 8]]\n",
      "\n",
      "[[1 2]\n",
      " [3 4]\n",
      " [5 6]\n",
      " [7 8]]\n",
      "\n",
      "[[[1 5]\n",
      "  [2 6]]\n",
      "\n",
      " [[3 7]\n",
      "  [4 8]]]\n"
     ]
    }
   ],
   "source": [
    "x_1=np.array([[1,2],[3,4]])\n",
    "y_1=np.array([[5,6],[7,8]])\n",
    "aar_new=np.stack((x_1,y_1),axis=1)\n",
    "arr1=np.hstack((x_1,y_1))#row\n",
    "arr2=np.vstack((x_1,y_1))#col\n",
    "arr3=np.dstack((x_1,y_1))#height\n",
    "print(aar_new)\n",
    "print()\n",
    "print(arr1)\n",
    "print()\n",
    "print(arr2)\n",
    "print()\n",
    "print(arr3)"
   ]
  },
  {
   "cell_type": "markdown",
   "id": "bcd8a7df",
   "metadata": {},
   "source": [
    "# Split Array"
   ]
  },
  {
   "cell_type": "code",
   "execution_count": 73,
   "id": "ac497890",
   "metadata": {},
   "outputs": [
    {
     "name": "stdout",
     "output_type": "stream",
     "text": [
      "[1 2 3 4 5 6 7 8 9]\n",
      "<class 'list'>\n",
      "[1 2 3]\n"
     ]
    }
   ],
   "source": [
    "arrs=np.array([1,2,3,4,5,6,7,8,9])\n",
    "print(arrs)\n",
    "ar=np.array_split(arrs,3)\n",
    "print(type(ar))\n",
    "print(ar[0])"
   ]
  },
  {
   "cell_type": "code",
   "execution_count": 75,
   "id": "d949f8f1",
   "metadata": {},
   "outputs": [
    {
     "name": "stdout",
     "output_type": "stream",
     "text": [
      "[[ 1  2  3  4]\n",
      " [ 5  6  7  8]\n",
      " [ 9 10 11 12]]\n",
      "[array([[1],\n",
      "       [5],\n",
      "       [9]]), array([[ 2],\n",
      "       [ 6],\n",
      "       [10]]), array([[ 3],\n",
      "       [ 7],\n",
      "       [11]]), array([[ 4],\n",
      "       [ 8],\n",
      "       [12]])]\n"
     ]
    }
   ],
   "source": [
    "v1=np.array([[1,2,3,4],[5,6,7,8],[9,10,11,12]])\n",
    "print(v1)\n",
    "arr1=np.array_split(v1,4,axis=1)\n",
    "print(arr1)"
   ]
  },
  {
   "cell_type": "markdown",
   "id": "17998114",
   "metadata": {},
   "source": [
    "# Numpy Arrays Functions"
   ]
  },
  {
   "cell_type": "markdown",
   "id": "96b1b41b",
   "metadata": {},
   "source": [
    "# search"
   ]
  },
  {
   "cell_type": "code",
   "execution_count": 80,
   "id": "39195f4c",
   "metadata": {},
   "outputs": [
    {
     "name": "stdout",
     "output_type": "stream",
     "text": [
      "(array([ 1, 10, 14, 16], dtype=int64),)\n"
     ]
    }
   ],
   "source": [
    "arr_search=np.array([1,2,3,4,5,6,7,8,9,10,2,134,1,3,2,13,2])\n",
    "x=np.where(arr_search==2)\n",
    "print(x)"
   ]
  },
  {
   "cell_type": "code",
   "execution_count": 81,
   "id": "a6296e6a",
   "metadata": {},
   "outputs": [
    {
     "name": "stdout",
     "output_type": "stream",
     "text": [
      "(array([ 1,  3,  5,  7,  9, 10, 11, 14, 16], dtype=int64),)\n"
     ]
    }
   ],
   "source": [
    "arr_search=np.array([1,2,3,4,5,6,7,8,9,10,2,134,1,3,2,13,2])\n",
    "x=np.where((arr_search%2)==0)\n",
    "print(x)"
   ]
  },
  {
   "cell_type": "code",
   "execution_count": 82,
   "id": "a53b9937",
   "metadata": {},
   "outputs": [
    {
     "name": "stdout",
     "output_type": "stream",
     "text": [
      "4\n"
     ]
    }
   ],
   "source": [
    "arr_search=np.array([1,2,3,4,5,6,7,8,9,10,2,134,1,3,2,13,2])\n",
    "x1=np.searchsorted(arr_search,5)\n",
    "print(x1)"
   ]
  },
  {
   "cell_type": "code",
   "execution_count": null,
   "id": "2e13c72d",
   "metadata": {},
   "outputs": [],
   "source": []
  }
 ],
 "metadata": {
  "kernelspec": {
   "display_name": "Python 3 (ipykernel)",
   "language": "python",
   "name": "python3"
  },
  "language_info": {
   "codemirror_mode": {
    "name": "ipython",
    "version": 3
   },
   "file_extension": ".py",
   "mimetype": "text/x-python",
   "name": "python",
   "nbconvert_exporter": "python",
   "pygments_lexer": "ipython3",
   "version": "3.9.12"
  }
 },
 "nbformat": 4,
 "nbformat_minor": 5
}
