{
 "cells": [
  {
   "cell_type": "code",
   "execution_count": 9,
   "id": "aebd5ae4",
   "metadata": {},
   "outputs": [],
   "source": [
    "import cv2 as cp\n",
    "import numpy as np\n",
    "import pandas as pd"
   ]
  },
  {
   "cell_type": "code",
   "execution_count": 16,
   "id": "43ed2d00",
   "metadata": {},
   "outputs": [],
   "source": [
    "#images read\n",
    "imgname='1.jpg'\n",
    "img=cp.imread(imgname)\n",
    "img=cp.resize(img,(700,500))\n",
    "cp.imshow('Image1',img)\n",
    "cp.waitKey(0)\n",
    "cp.destroyAllWindows()"
   ]
  },
  {
   "cell_type": "code",
   "execution_count": 18,
   "id": "9064cfc1",
   "metadata": {},
   "outputs": [],
   "source": [
    "#images read\n",
    "imgname='3.jpg'\n",
    "img=cp.imread(imgname)\n",
    "img=cp.resize(img,(450,300))\n",
    "img2=np.hstack((img,img))\n",
    "img3=np.vstack((img2,img2))\n",
    "cp.imshow('Image1',img3)\n",
    "cp.waitKey(0)\n",
    "cp.destroyAllWindows()"
   ]
  },
  {
   "cell_type": "code",
   "execution_count": 19,
   "id": "397098da",
   "metadata": {},
   "outputs": [
    {
     "ename": "ModuleNotFoundError",
     "evalue": "No module named 'tensorflow'",
     "output_type": "error",
     "traceback": [
      "\u001b[1;31m---------------------------------------------------------------------------\u001b[0m",
      "\u001b[1;31mModuleNotFoundError\u001b[0m                       Traceback (most recent call last)",
      "Input \u001b[1;32mIn [19]\u001b[0m, in \u001b[0;36m<cell line: 1>\u001b[1;34m()\u001b[0m\n\u001b[1;32m----> 1\u001b[0m \u001b[38;5;28;01mimport\u001b[39;00m \u001b[38;5;21;01mtensorflow\u001b[39;00m \u001b[38;5;28;01mas\u001b[39;00m \u001b[38;5;21;01mtf\u001b[39;00m\n\u001b[0;32m      2\u001b[0m \u001b[38;5;28;01mimport\u001b[39;00m \u001b[38;5;21;01mnumpy\u001b[39;00m \u001b[38;5;28;01mas\u001b[39;00m \u001b[38;5;21;01mnp\u001b[39;00m\n\u001b[0;32m      4\u001b[0m matrix1 \u001b[38;5;241m=\u001b[39m np\u001b[38;5;241m.\u001b[39marray([(\u001b[38;5;241m2\u001b[39m,\u001b[38;5;241m2\u001b[39m,\u001b[38;5;241m2\u001b[39m),(\u001b[38;5;241m2\u001b[39m,\u001b[38;5;241m2\u001b[39m,\u001b[38;5;241m2\u001b[39m),(\u001b[38;5;241m2\u001b[39m,\u001b[38;5;241m2\u001b[39m,\u001b[38;5;241m2\u001b[39m)],dtype \u001b[38;5;241m=\u001b[39m \u001b[38;5;124m'\u001b[39m\u001b[38;5;124mint32\u001b[39m\u001b[38;5;124m'\u001b[39m)\n",
      "\u001b[1;31mModuleNotFoundError\u001b[0m: No module named 'tensorflow'"
     ]
    }
   ],
   "source": [
    "import tensorflow as tf\n",
    "import numpy as np\n",
    "\n",
    "matrix1 = np.array([(2,2,2),(2,2,2),(2,2,2)],dtype = 'int32')\n",
    "matrix2 = np.array([(1,1,1),(1,1,1),(1,1,1)],dtype = 'int32')\n",
    "\n",
    "print (matrix1)\n",
    "print (matrix2)\n",
    "\n",
    "matrix1 = tf.constant(matrix1)\n",
    "matrix2 = tf.constant(matrix2)\n",
    "matrix_product = tf.matmul(matrix1, matrix2)\n",
    "matrix_sum = tf.add(matrix1,matrix2)\n",
    "matrix_3 = np.array([(2,7,2),(1,4,2),(9,0,2)],dtype = 'float32')\n",
    "print (matrix_3)\n",
    "\n",
    "matrix_det = tf.matrix_determinant(matrix_3)\n",
    "with tf.Session() as sess:\n",
    "   result1 = sess.run(matrix_product)\n",
    "   result2 = sess.run(matrix_sum)\n",
    "   result3 = sess.run(matrix_det)\n",
    "\n",
    "print (result1)\n",
    "print (result2)\n",
    "print (result3)"
   ]
  },
  {
   "cell_type": "code",
   "execution_count": null,
   "id": "004eb518",
   "metadata": {},
   "outputs": [],
   "source": []
  }
 ],
 "metadata": {
  "kernelspec": {
   "display_name": "Python 3 (ipykernel)",
   "language": "python",
   "name": "python3"
  },
  "language_info": {
   "codemirror_mode": {
    "name": "ipython",
    "version": 3
   },
   "file_extension": ".py",
   "mimetype": "text/x-python",
   "name": "python",
   "nbconvert_exporter": "python",
   "pygments_lexer": "ipython3",
   "version": "3.9.12"
  }
 },
 "nbformat": 4,
 "nbformat_minor": 5
}
